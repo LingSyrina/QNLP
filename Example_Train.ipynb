{
  "cells": [
    {
      "cell_type": "code",
      "source": [
        "!pip install lambeq\n",
        "!pip install pytket\n",
        "!pip install qiskit\n",
        "!pip install pytket-qiskit\n",
        "!pip install discopy\n",
        "!pip install tensorflow"
      ],
      "metadata": {
        "colab": {
          "base_uri": "https://localhost:8080/"
        },
        "collapsed": true,
        "id": "Spjjs9TKBkw9",
        "outputId": "f3574760-a29d-4b3e-ffd7-cb60c0890ce0"
      },
      "execution_count": 11,
      "outputs": [
        {
          "output_type": "stream",
          "name": "stdout",
          "text": [
            "Collecting discopy\n",
            "  Downloading discopy-1.2.0-py3-none-any.whl.metadata (21 kB)\n",
            "Requirement already satisfied: numpy>=1.18.1 in /usr/local/lib/python3.11/dist-packages (from discopy) (2.0.2)\n",
            "Requirement already satisfied: networkx>=2.4 in /usr/local/lib/python3.11/dist-packages (from discopy) (3.4.2)\n",
            "Requirement already satisfied: matplotlib>=3.1.2 in /usr/local/lib/python3.11/dist-packages (from discopy) (3.10.0)\n",
            "Requirement already satisfied: pillow>=6.2.1 in /usr/local/lib/python3.11/dist-packages (from discopy) (11.1.0)\n",
            "Requirement already satisfied: contourpy>=1.0.1 in /usr/local/lib/python3.11/dist-packages (from matplotlib>=3.1.2->discopy) (1.3.1)\n",
            "Requirement already satisfied: cycler>=0.10 in /usr/local/lib/python3.11/dist-packages (from matplotlib>=3.1.2->discopy) (0.12.1)\n",
            "Requirement already satisfied: fonttools>=4.22.0 in /usr/local/lib/python3.11/dist-packages (from matplotlib>=3.1.2->discopy) (4.57.0)\n",
            "Requirement already satisfied: kiwisolver>=1.3.1 in /usr/local/lib/python3.11/dist-packages (from matplotlib>=3.1.2->discopy) (1.4.8)\n",
            "Requirement already satisfied: packaging>=20.0 in /usr/local/lib/python3.11/dist-packages (from matplotlib>=3.1.2->discopy) (24.2)\n",
            "Requirement already satisfied: pyparsing>=2.3.1 in /usr/local/lib/python3.11/dist-packages (from matplotlib>=3.1.2->discopy) (3.2.3)\n",
            "Requirement already satisfied: python-dateutil>=2.7 in /usr/local/lib/python3.11/dist-packages (from matplotlib>=3.1.2->discopy) (2.8.2)\n",
            "Requirement already satisfied: six>=1.5 in /usr/local/lib/python3.11/dist-packages (from python-dateutil>=2.7->matplotlib>=3.1.2->discopy) (1.17.0)\n",
            "Downloading discopy-1.2.0-py3-none-any.whl (566 kB)\n",
            "\u001b[2K   \u001b[90m━━━━━━━━━━━━━━━━━━━━━━━━━━━━━━━━━━━━━━━━\u001b[0m \u001b[32m566.3/566.3 kB\u001b[0m \u001b[31m8.4 MB/s\u001b[0m eta \u001b[36m0:00:00\u001b[0m\n",
            "\u001b[?25hInstalling collected packages: discopy\n",
            "Successfully installed discopy-1.2.0\n",
            "Requirement already satisfied: tensorflow in /usr/local/lib/python3.11/dist-packages (2.18.0)\n",
            "Requirement already satisfied: absl-py>=1.0.0 in /usr/local/lib/python3.11/dist-packages (from tensorflow) (1.4.0)\n",
            "Requirement already satisfied: astunparse>=1.6.0 in /usr/local/lib/python3.11/dist-packages (from tensorflow) (1.6.3)\n",
            "Requirement already satisfied: flatbuffers>=24.3.25 in /usr/local/lib/python3.11/dist-packages (from tensorflow) (25.2.10)\n",
            "Requirement already satisfied: gast!=0.5.0,!=0.5.1,!=0.5.2,>=0.2.1 in /usr/local/lib/python3.11/dist-packages (from tensorflow) (0.6.0)\n",
            "Requirement already satisfied: google-pasta>=0.1.1 in /usr/local/lib/python3.11/dist-packages (from tensorflow) (0.2.0)\n",
            "Requirement already satisfied: libclang>=13.0.0 in /usr/local/lib/python3.11/dist-packages (from tensorflow) (18.1.1)\n",
            "Requirement already satisfied: opt-einsum>=2.3.2 in /usr/local/lib/python3.11/dist-packages (from tensorflow) (3.4.0)\n",
            "Requirement already satisfied: packaging in /usr/local/lib/python3.11/dist-packages (from tensorflow) (24.2)\n",
            "Requirement already satisfied: protobuf!=4.21.0,!=4.21.1,!=4.21.2,!=4.21.3,!=4.21.4,!=4.21.5,<6.0.0dev,>=3.20.3 in /usr/local/lib/python3.11/dist-packages (from tensorflow) (5.29.4)\n",
            "Requirement already satisfied: requests<3,>=2.21.0 in /usr/local/lib/python3.11/dist-packages (from tensorflow) (2.32.3)\n",
            "Requirement already satisfied: setuptools in /usr/local/lib/python3.11/dist-packages (from tensorflow) (75.2.0)\n",
            "Requirement already satisfied: six>=1.12.0 in /usr/local/lib/python3.11/dist-packages (from tensorflow) (1.17.0)\n",
            "Requirement already satisfied: termcolor>=1.1.0 in /usr/local/lib/python3.11/dist-packages (from tensorflow) (3.0.1)\n",
            "Requirement already satisfied: typing-extensions>=3.6.6 in /usr/local/lib/python3.11/dist-packages (from tensorflow) (4.13.1)\n",
            "Requirement already satisfied: wrapt>=1.11.0 in /usr/local/lib/python3.11/dist-packages (from tensorflow) (1.17.2)\n",
            "Requirement already satisfied: grpcio<2.0,>=1.24.3 in /usr/local/lib/python3.11/dist-packages (from tensorflow) (1.71.0)\n",
            "Requirement already satisfied: tensorboard<2.19,>=2.18 in /usr/local/lib/python3.11/dist-packages (from tensorflow) (2.18.0)\n",
            "Requirement already satisfied: keras>=3.5.0 in /usr/local/lib/python3.11/dist-packages (from tensorflow) (3.8.0)\n",
            "Requirement already satisfied: numpy<2.1.0,>=1.26.0 in /usr/local/lib/python3.11/dist-packages (from tensorflow) (2.0.2)\n",
            "Requirement already satisfied: h5py>=3.11.0 in /usr/local/lib/python3.11/dist-packages (from tensorflow) (3.13.0)\n",
            "Requirement already satisfied: ml-dtypes<0.5.0,>=0.4.0 in /usr/local/lib/python3.11/dist-packages (from tensorflow) (0.4.1)\n",
            "Requirement already satisfied: tensorflow-io-gcs-filesystem>=0.23.1 in /usr/local/lib/python3.11/dist-packages (from tensorflow) (0.37.1)\n",
            "Requirement already satisfied: wheel<1.0,>=0.23.0 in /usr/local/lib/python3.11/dist-packages (from astunparse>=1.6.0->tensorflow) (0.45.1)\n",
            "Requirement already satisfied: rich in /usr/local/lib/python3.11/dist-packages (from keras>=3.5.0->tensorflow) (13.9.4)\n",
            "Requirement already satisfied: namex in /usr/local/lib/python3.11/dist-packages (from keras>=3.5.0->tensorflow) (0.0.8)\n",
            "Requirement already satisfied: optree in /usr/local/lib/python3.11/dist-packages (from keras>=3.5.0->tensorflow) (0.14.1)\n",
            "Requirement already satisfied: charset-normalizer<4,>=2 in /usr/local/lib/python3.11/dist-packages (from requests<3,>=2.21.0->tensorflow) (3.4.1)\n",
            "Requirement already satisfied: idna<4,>=2.5 in /usr/local/lib/python3.11/dist-packages (from requests<3,>=2.21.0->tensorflow) (3.10)\n",
            "Requirement already satisfied: urllib3<3,>=1.21.1 in /usr/local/lib/python3.11/dist-packages (from requests<3,>=2.21.0->tensorflow) (2.3.0)\n",
            "Requirement already satisfied: certifi>=2017.4.17 in /usr/local/lib/python3.11/dist-packages (from requests<3,>=2.21.0->tensorflow) (2025.1.31)\n",
            "Requirement already satisfied: markdown>=2.6.8 in /usr/local/lib/python3.11/dist-packages (from tensorboard<2.19,>=2.18->tensorflow) (3.7)\n",
            "Requirement already satisfied: tensorboard-data-server<0.8.0,>=0.7.0 in /usr/local/lib/python3.11/dist-packages (from tensorboard<2.19,>=2.18->tensorflow) (0.7.2)\n",
            "Requirement already satisfied: werkzeug>=1.0.1 in /usr/local/lib/python3.11/dist-packages (from tensorboard<2.19,>=2.18->tensorflow) (3.1.3)\n",
            "Requirement already satisfied: MarkupSafe>=2.1.1 in /usr/local/lib/python3.11/dist-packages (from werkzeug>=1.0.1->tensorboard<2.19,>=2.18->tensorflow) (3.0.2)\n",
            "Requirement already satisfied: markdown-it-py>=2.2.0 in /usr/local/lib/python3.11/dist-packages (from rich->keras>=3.5.0->tensorflow) (3.0.0)\n",
            "Requirement already satisfied: pygments<3.0.0,>=2.13.0 in /usr/local/lib/python3.11/dist-packages (from rich->keras>=3.5.0->tensorflow) (2.18.0)\n",
            "Requirement already satisfied: mdurl~=0.1 in /usr/local/lib/python3.11/dist-packages (from markdown-it-py>=2.2.0->rich->keras>=3.5.0->tensorflow) (0.1.2)\n"
          ]
        }
      ]
    },
    {
      "cell_type": "code",
      "execution_count": 155,
      "metadata": {
        "id": "VvITuIotBQ8o"
      },
      "outputs": [],
      "source": [
        "from lambeq import (\n",
        "    BobcatParser, RemoveCupsRewriter, IQPAnsatz, AtomicType,\n",
        "    TketModel, QuantumTrainer, SPSAOptimizer,\n",
        "    Dataset\n",
        ")\n",
        "from pytket.extensions.qiskit import AerBackend\n",
        "\n",
        "import numpy as np\n",
        "import discopy as dc\n"
      ]
    },
    {
      "cell_type": "code",
      "execution_count": 156,
      "metadata": {
        "id": "I4UbFaOUBQ8q"
      },
      "outputs": [],
      "source": [
        "import csv\n",
        "\n",
        "sentences = []\n",
        "labels = []\n",
        "with open('sentence_relations_directional.csv', 'r') as file:\n",
        "      csvreader = csv.reader(file, delimiter=',')\n",
        "      header = next(csvreader)\n",
        "      for row in csvreader:\n",
        "        sentences.append(row[0])\n",
        "        labels.append(float(row[1]))\n"
      ]
    },
    {
      "cell_type": "code",
      "execution_count": 157,
      "metadata": {
        "id": "gt9r_PPrBQ8r"
      },
      "outputs": [],
      "source": [
        "parser = BobcatParser()\n",
        "rewriter = RemoveCupsRewriter()\n",
        "raw_diagrams = [parser.sentence2diagram(sentence) for sentence in sentences]\n",
        "\n",
        "rewritten_diagrams = [rewriter(d) for d in raw_diagrams]\n"
      ]
    },
    {
      "cell_type": "code",
      "execution_count": 164,
      "metadata": {
        "id": "8QMX3JQbBQ8t"
      },
      "outputs": [],
      "source": [
        "ansatz = IQPAnsatz(\n",
        "    {AtomicType.NOUN: 1, AtomicType.SENTENCE: 1},\n",
        "    n_layers=2,\n",
        "    n_single_qubit_params=3\n",
        ")\n",
        "\n",
        "input_circuits = [ansatz(d) for d in rewritten_diagrams]\n",
        "input_labels = []\n",
        "for label in labels:\n",
        "    input_labels.append(np.array(label))\n",
        "\n",
        "train_circuits, train_labels = input_circuits, input_labels"
      ]
    },
    {
      "cell_type": "code",
      "execution_count": 165,
      "metadata": {
        "id": "StbfUoeNBQ8u"
      },
      "outputs": [],
      "source": [
        "backend = AerBackend()\n",
        "backend_config = {\n",
        "    'backend': backend,\n",
        "    'compilation': backend.default_compilation_pass(2),\n",
        "    'shots': 8192\n",
        "}\n",
        "\n",
        "model = TketModel.from_diagrams(train_circuits, backend_config=backend_config)"
      ]
    },
    {
      "cell_type": "code",
      "execution_count": 166,
      "metadata": {
        "id": "xKcuAuSLBQ8u"
      },
      "outputs": [],
      "source": [
        "BATCH_SIZE = 2\n",
        "train_dataset = Dataset(train_circuits, train_labels, batch_size=BATCH_SIZE)"
      ]
    },
    {
      "cell_type": "code",
      "execution_count": 167,
      "metadata": {
        "id": "aiwnTpbWBQ8v"
      },
      "outputs": [],
      "source": [
        "bce = lambda y_pred, y_true: -(\n",
        "    y_true * np.log(y_pred + 1e-10) +\n",
        "    (1 - y_true) * np.log(1 - y_pred + 1e-10)\n",
        ").mean()\n",
        "\n",
        "def accuracy(y_pred, y_true):\n",
        "    return (np.round(y_pred) == y_true).mean()\n",
        "\n",
        "eval_metrics = {'accuracy': accuracy}\n"
      ]
    },
    {
      "cell_type": "code",
      "execution_count": 168,
      "metadata": {
        "colab": {
          "base_uri": "https://localhost:8080/"
        },
        "id": "pPRxnT2GBQ8w",
        "outputId": "8c82089c-320d-4ffe-90cc-8beb56e15bc2"
      },
      "outputs": [
        {
          "output_type": "stream",
          "name": "stderr",
          "text": [
            "Epoch 1:   train/loss: 0.8466   valid/loss: -----   train/time: 5.69s   valid/time: -----   train/accuracy: 0.3000   valid/accuracy: -----\n",
            "Epoch 2:   train/loss: 0.7802   valid/loss: -----   train/time: 5.14s   valid/time: -----   train/accuracy: 0.2500   valid/accuracy: -----\n",
            "Epoch 3:   train/loss: 1.0577   valid/loss: -----   train/time: 6.99s   valid/time: -----   train/accuracy: 0.3000   valid/accuracy: -----\n",
            "Epoch 4:   train/loss: 0.7161   valid/loss: -----   train/time: 5.27s   valid/time: -----   train/accuracy: 0.2000   valid/accuracy: -----\n",
            "Epoch 5:   train/loss: 0.7082   valid/loss: -----   train/time: 6.04s   valid/time: -----   train/accuracy: 0.3500   valid/accuracy: -----\n",
            "Epoch 6:   train/loss: 0.7066   valid/loss: -----   train/time: 4.98s   valid/time: -----   train/accuracy: 0.2000   valid/accuracy: -----\n",
            "Epoch 7:   train/loss: 0.6074   valid/loss: -----   train/time: 6.14s   valid/time: -----   train/accuracy: 0.4000   valid/accuracy: -----\n",
            "Epoch 8:   train/loss: 0.9912   valid/loss: -----   train/time: 7.31s   valid/time: -----   train/accuracy: 0.3500   valid/accuracy: -----\n",
            "Epoch 9:   train/loss: 0.4733   valid/loss: -----   train/time: 12.01s   valid/time: -----   train/accuracy: 0.3500   valid/accuracy: -----\n",
            "Epoch 10:  train/loss: 3.6457   valid/loss: -----   train/time: 6.45s   valid/time: -----   train/accuracy: 0.4500   valid/accuracy: -----\n",
            "\n",
            "Training completed!\n",
            "train/time: 1m6s   train/time_per_epoch: 6.60s   train/time_per_step: 1.32s   valid/time: None   valid/time_per_eval: None\n"
          ]
        }
      ],
      "source": [
        "EPOCHS = 10\n",
        "\n",
        "trainer = QuantumTrainer(\n",
        "    model=model,\n",
        "    loss_function=bce,\n",
        "    epochs=EPOCHS,\n",
        "    optimizer=SPSAOptimizer,\n",
        "    optim_hyperparams={'a': 0.05, 'c': 0.06, 'A': 0.001 * EPOCHS},\n",
        "    evaluate_functions=eval_metrics,\n",
        "    evaluate_on_train=True,\n",
        "    verbose='text',\n",
        "    log_dir='entailment/logs',\n",
        "    seed=0\n",
        ")\n",
        "\n",
        "trainer.fit(train_dataset)\n"
      ]
    },
    {
      "cell_type": "code",
      "execution_count": 169,
      "metadata": {
        "colab": {
          "base_uri": "https://localhost:8080/"
        },
        "id": "nPoig9aMBQ8x",
        "outputId": "78f70516-a8cb-430f-ebc9-bf02b01be3ff"
      },
      "outputs": [
        {
          "output_type": "execute_result",
          "data": {
            "text/plain": [
              "array([[0.24242424, 0.75757576],\n",
              "       [0.26785714, 0.73214286],\n",
              "       [1.        , 0.        ],\n",
              "       [0.17316017, 0.82683983],\n",
              "       [0.75892857, 0.24107143],\n",
              "       [0.6744186 , 0.3255814 ],\n",
              "       [0.86163522, 0.13836478],\n",
              "       [0.84200743, 0.15799257],\n",
              "       [0.49553571, 0.50446429],\n",
              "       [0.73333333, 0.26666667]])"
            ]
          },
          "metadata": {},
          "execution_count": 169
        }
      ],
      "source": [
        "#print the outputs on all data points\n",
        "model.get_diagram_output(train_circuits)"
      ]
    }
  ],
  "metadata": {
    "kernelspec": {
      "display_name": "Python (lambeq 0.4.3)",
      "language": "python",
      "name": "lambeq-env"
    },
    "language_info": {
      "codemirror_mode": {
        "name": "ipython",
        "version": 3
      },
      "file_extension": ".py",
      "mimetype": "text/x-python",
      "name": "python",
      "nbconvert_exporter": "python",
      "pygments_lexer": "ipython3",
      "version": "3.10.16"
    },
    "colab": {
      "provenance": []
    }
  },
  "nbformat": 4,
  "nbformat_minor": 0
}