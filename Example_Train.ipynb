{
 "cells": [
  {
   "cell_type": "code",
   "execution_count": null,
   "metadata": {
    "pycharm": {
     "is_executing": true
    }
   },
   "outputs": [],
   "source": [
    "from lambeq import (\n",
    "    BobcatParser, RemoveCupsRewriter, IQPAnsatz, AtomicType,\n",
    "    TketModel, QuantumTrainer, SPSAOptimizer,\n",
    "    Dataset\n",
    ")\n",
    "from pytket.extensions.qiskit import AerBackend\n",
    "\n",
    "import numpy as np"
   ]
  },
  {
   "cell_type": "code",
   "execution_count": null,
   "metadata": {
    "pycharm": {
     "is_executing": true
    }
   },
   "outputs": [],
   "source": [
    "sentence_A = \"A group of kids is playing in a yard and an old man is standing in the background\"\n",
    "sentence_B = \"A group of boys in a yard is playing and a man is standing in the background\"\n",
    "label = 1  # entailment"
   ]
  },
  {
   "cell_type": "code",
   "execution_count": 25,
   "metadata": {},
   "outputs": [
    {
     "name": "stderr",
     "output_type": "stream",
     "text": [
      "                                                                                                             "
     ]
    }
   ],
   "source": [
    "parser = BobcatParser()\n",
    "rewriter = RemoveCupsRewriter()\n",
    "\n",
    "raw_diagrams = parser.sentences2diagrams([sentence_A, sentence_B])\n",
    "rewritten_diagrams = [rewriter(d) for d in raw_diagrams]"
   ]
  },
  {
   "cell_type": "code",
   "execution_count": 32,
   "metadata": {},
   "outputs": [],
   "source": [
    "ansatz = IQPAnsatz(\n",
    "    {AtomicType.NOUN: 1, AtomicType.SENTENCE: 1},  # <--- fix here\n",
    "    n_layers=2,\n",
    "    n_single_qubit_params=3\n",
    ")\n",
    "\n",
    "train_circuits = [ansatz(d) for d in rewritten_diagrams]\n",
    "train_labels = np.array([[label], [label]])  # shape (2, 1)"
   ]
  },
  {
   "cell_type": "code",
   "execution_count": 37,
   "metadata": {},
   "outputs": [],
   "source": [
    "backend = AerBackend()\n",
    "backend_config = {\n",
    "    'backend': backend,\n",
    "    'compilation': backend.default_compilation_pass(2),\n",
    "    'shots': 8192\n",
    "}\n",
    "\n",
    "model = TketModel.from_diagrams(train_circuits, backend_config=backend_config)"
   ]
  },
  {
   "cell_type": "code",
   "execution_count": 38,
   "metadata": {},
   "outputs": [],
   "source": [
    "BATCH_SIZE = 2\n",
    "train_dataset = Dataset(train_circuits, train_labels, batch_size=BATCH_SIZE)"
   ]
  },
  {
   "cell_type": "code",
   "execution_count": 39,
   "metadata": {},
   "outputs": [],
   "source": [
    "bce = lambda y_pred, y_true: -(\n",
    "    y_true * np.log(y_pred + 1e-10) +\n",
    "    (1 - y_true) * np.log(1 - y_pred + 1e-10)\n",
    ").mean()\n",
    "\n",
    "def accuracy(y_pred, y_true):\n",
    "    return (np.round(y_pred) == y_true).mean()\n",
    "\n",
    "eval_metrics = {'accuracy': accuracy}\n"
   ]
  },
  {
   "cell_type": "code",
   "execution_count": null,
   "metadata": {},
   "outputs": [],
   "source": [
    "EPOCHS = 10\n",
    "\n",
    "trainer = QuantumTrainer(\n",
    "    model=model,\n",
    "    loss_function=bce,\n",
    "    epochs=EPOCHS,\n",
    "    optimizer=SPSAOptimizer,\n",
    "    optim_hyperparams={'a': 0.05, 'c': 0.06, 'A': 0.001 * EPOCHS},\n",
    "    evaluate_functions=eval_metrics,\n",
    "    evaluate_on_train=True,\n",
    "    verbose='text',\n",
    "    log_dir='entailment/logs',\n",
    "    seed=0\n",
    ")\n",
    "\n",
    "trainer.fit(train_dataset)"
   ]
  },
  {
   "cell_type": "code",
   "execution_count": null,
   "metadata": {},
   "outputs": [],
   "source": []
  }
 ],
 "metadata": {
  "kernelspec": {
   "display_name": "Python (lambeq 0.4.3)",
   "language": "python",
   "name": "lambeq-env"
  },
  "language_info": {
   "codemirror_mode": {
    "name": "ipython",
    "version": 3
   },
   "file_extension": ".py",
   "mimetype": "text/x-python",
   "name": "python",
   "nbconvert_exporter": "python",
   "pygments_lexer": "ipython3",
   "version": "3.10.16"
  }
 },
 "nbformat": 4,
 "nbformat_minor": 4
}
